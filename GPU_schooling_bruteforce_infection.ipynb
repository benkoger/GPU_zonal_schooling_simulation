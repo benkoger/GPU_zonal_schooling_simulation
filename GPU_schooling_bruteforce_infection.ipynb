{
 "cells": [
  {
   "cell_type": "code",
   "execution_count": 1,
   "metadata": {
    "collapsed": false
   },
   "outputs": [
    {
     "name": "stdout",
     "output_type": "stream",
     "text": [
      "Populating the interactive namespace from numpy and matplotlib\n"
     ]
    }
   ],
   "source": [
    "%pylab inline\n",
    "\n",
    "import tensorflow as tf\n",
    "import numpy as np\n",
    "import matplotlib.pyplot as plt\n",
    "import cv2\n",
    "import time\n",
    "from tensorflow.python.client import timeline\n",
    "import json"
   ]
  },
  {
   "cell_type": "code",
   "execution_count": 2,
   "metadata": {
    "collapsed": false
   },
   "outputs": [],
   "source": [
    "class Simulation:\n",
    "    \n",
    "\n",
    "    def create_mask(r, inner_r, outer_r):\n",
    "        \"\"\"Return a mask that is true is distance is within the specified range\n",
    "\n",
    "        arguments:\n",
    "        r -- matrix containg distances between all individuals: shape() = (n,m)\n",
    "        inner_r -- minimum distance (exclusive)\n",
    "        outer_r -- maximum distance (exclusive)\n",
    "\n",
    "        return matrix shape = (n,m,2)\n",
    "        \"\"\"\n",
    "        mask = tf.logical_and(tf.less(abs_r, outer_r), tf.greater(abs_r, inner_r))\n",
    "        mask = tf.cast(mask, tf.float32)\n",
    "        mask = tf.expand_dims(mask, 2)\n",
    "        mask = tf.tile(mask,(1,1,2))\n",
    "        mask = tf.cast(mask, tf.bool)\n",
    "        return(mask)\n",
    "\n",
    "    def create_mask_1d(r, inner_r, outer_r):\n",
    "        \"\"\"Return a mask that is true is distance is within the specified range\n",
    "\n",
    "        arguments:\n",
    "        r -- matrix containg distances between all individuals: shape() = (n,m)\n",
    "        inner_r -- minimum distance (exclusive)\n",
    "        outer_r -- maximum distance (exclusive)\n",
    "\n",
    "        return matrix shape = (n,m,1)\n",
    "        \"\"\"\n",
    "        mask = tf.logical_and(tf.less(abs_r, outer_r), tf.greater(abs_r, inner_r))\n",
    "        mask = tf.cast(mask, tf.float32)\n",
    "        mask = tf.expand_dims(mask, 2)\n",
    "        mask = tf.cast(mask, tf.bool)\n",
    "        return(mask)\n",
    "\n",
    "    def zone_vec_v(expanded_val, mask, num_particles, zeros):\n",
    "        \"\"\"Apply mask to velocities calculate social alignment\n",
    "        \"\"\"\n",
    "        vals = tf.tile(expanded_val, [1, num_particles, 1])\n",
    "        #take term from vals where mask is true and from zeros when false\n",
    "        vals = tf.where(mask, vals, zeros)\n",
    "        return(tf.reduce_sum(vals, 0))\n",
    "\n",
    "    def zone_vec_x(rel_pos, mask, zeros):\n",
    "        #take term from rel_pos where mask is true and from zeros when false\n",
    "        vals = tf.where(mask, rel_pos, zeros)\n",
    "        return(tf.reduce_sum(vals, 0))\n",
    "\n",
    "    def draw(window_size, positions, body_size):\n",
    "        visualization = np.zeros((window_size, window_size, 3), np.uint8)\n",
    "        Cord=(np.array(positions)).astype(int) # Tranfer particles cordinates to numpy array format to use in plotting functin\n",
    "\n",
    "        for i in xrange(len(Cord[:,0])):\n",
    "            if init_state[i] == 0:\n",
    "                cv2.circle(visualization,tuple(Cord[i,:]), \n",
    "                           int(body_size * window_size / window_size), \n",
    "                           (255,101,105),-1)\n",
    "            else:\n",
    "                cv2.circle(visualization,tuple(Cord[i,:]), \n",
    "                           int(body_size * window_size / window_size), \n",
    "                           (55,101,255),-1)\n",
    "\n",
    "        cv2.imshow(\"visualization\", visualization)\n",
    "        cv2.waitKey(1)\n",
    "        \n",
    "    def main_graph():\n"
   ]
  },
  {
   "cell_type": "code",
   "execution_count": null,
   "metadata": {
    "collapsed": false
   },
   "outputs": [],
   "source": []
  },
  {
   "cell_type": "code",
   "execution_count": null,
   "metadata": {
    "collapsed": true
   },
   "outputs": [],
   "source": []
  },
  {
   "cell_type": "code",
   "execution_count": 3,
   "metadata": {
    "collapsed": false
   },
   "outputs": [],
   "source": [
    "#---------------------Placeholders input parametes for the graph---------------------------------------------\n",
    "x = tf.placeholder(dtype=tf.float32)   # Position of particles in the begining of simulation step (input)\n",
    "v = tf.placeholder(dtype=tf.float32)   # Velocities of particles  in the begining of simulation step (input)\n",
    "state = tf.placeholder(dtype=tf.float32)\n",
    "#***************Create the graph to simulate single molecular dynamic (m.d) simulation step---------------------------------------------------------------------------------------------------\n",
    "\n",
    "expanded_x1 = tf.expand_dims(x, 0)  \n",
    "expanded_v1 = tf.expand_dims(v, 0)\n",
    "expanded_state1 = tf.expand_dims(state, 0)\n",
    "\n",
    "#normalize v1. This will happen at every step in the simulation\n",
    "\n",
    "expanded_v12 = tf.square(expanded_v1)\n",
    "expanded_v12_mag = tf.reduce_sum(expanded_v12, 1)\n",
    "expanded_v1_mag = tf.sqrt(expanded_v12)\n",
    "expanded_v1_norm = expanded_v1 / expanded_v1_mag    "
   ]
  },
  {
   "cell_type": "code",
   "execution_count": 4,
   "metadata": {
    "collapsed": false
   },
   "outputs": [
    {
     "ename": "NameError",
     "evalue": "name 'PeriodicBoundary' is not defined",
     "output_type": "error",
     "traceback": [
      "\u001b[0;31m---------------------------------------------------------------------------\u001b[0m",
      "\u001b[0;31mNameError\u001b[0m                                 Traceback (most recent call last)",
      "\u001b[0;32m<ipython-input-4-e8eb4296b310>\u001b[0m in \u001b[0;36m<module>\u001b[0;34m()\u001b[0m\n\u001b[0;32m----> 1\u001b[0;31m \u001b[0;32mif\u001b[0m \u001b[0mPeriodicBoundary\u001b[0m\u001b[0;34m:\u001b[0m\u001b[0;34m\u001b[0m\u001b[0m\n\u001b[0m\u001b[1;32m      2\u001b[0m     \u001b[0mCellPos\u001b[0m \u001b[0;34m=\u001b[0m \u001b[0;34m[\u001b[0m\u001b[0;34m]\u001b[0m \u001b[0;31m#Will hold all the neighboring cells\u001b[0m\u001b[0;34m\u001b[0m\u001b[0m\n\u001b[1;32m      3\u001b[0m     \u001b[0;32mfor\u001b[0m \u001b[0mi\u001b[0m \u001b[0;32min\u001b[0m \u001b[0mrange\u001b[0m\u001b[0;34m(\u001b[0m\u001b[0;34m-\u001b[0m\u001b[0;36m1\u001b[0m\u001b[0;34m,\u001b[0m \u001b[0;36m2\u001b[0m\u001b[0;34m)\u001b[0m\u001b[0;34m:\u001b[0m \u001b[0;31m#Iterates over the neighboring cells\u001b[0m\u001b[0;34m\u001b[0m\u001b[0m\n\u001b[1;32m      4\u001b[0m         \u001b[0;32mfor\u001b[0m \u001b[0mi2\u001b[0m \u001b[0;32min\u001b[0m \u001b[0mrange\u001b[0m\u001b[0;34m(\u001b[0m\u001b[0;34m-\u001b[0m\u001b[0;36m1\u001b[0m\u001b[0;34m,\u001b[0m \u001b[0;36m2\u001b[0m\u001b[0;34m)\u001b[0m\u001b[0;34m:\u001b[0m\u001b[0;34m\u001b[0m\u001b[0m\n\u001b[1;32m      5\u001b[0m             \u001b[0mCellPos\u001b[0m\u001b[0;34m.\u001b[0m\u001b[0mappend\u001b[0m\u001b[0;34m(\u001b[0m\u001b[0;34m[\u001b[0m\u001b[0mi\u001b[0m\u001b[0;34m*\u001b[0m\u001b[0marena_size\u001b[0m\u001b[0;34m,\u001b[0m \u001b[0mi2\u001b[0m\u001b[0;34m*\u001b[0m\u001b[0marena_size\u001b[0m\u001b[0;34m]\u001b[0m\u001b[0;34m)\u001b[0m \u001b[0;31m# (0,0) position of each of the neighbouring cells (top left corner)\u001b[0m\u001b[0;34m\u001b[0m\u001b[0m\n",
      "\u001b[0;31mNameError\u001b[0m: name 'PeriodicBoundary' is not defined"
     ]
    }
   ],
   "source": [
    "if PeriodicBoundary: \n",
    "    CellPos = [] #Will hold all the neighboring cells \n",
    "    for i in range(-1, 2): #Iterates over the neighboring cells\n",
    "        for i2 in range(-1, 2):\n",
    "            CellPos.append([i*arena_size, i2*arena_size]) # (0,0) position of each of the neighbouring cells (top left corner)\n",
    "    AllParticles = tf.expand_dims(CellPos, 1)  + expanded_x1  #Add particle position info to the neighbor cells\n",
    "    AllParticles = tf.reshape(AllParticles,[-1, 2]) # Reshape to single array of particles coordinates\n",
    "    expanded_x2 = tf.expand_dims(AllParticles, 1)\n",
    "    AllParticlesV = tf.tile(expanded_v1_norm, [1, 9, 1])\n",
    "    AllParticlesV = tf.reshape(AllParticlesV,[-1, 2])\n",
    "    expanded_v2 = tf.expand_dims(AllParticlesV, 1)\n",
    "    AllParticlesState = tf.tile(expanded_state1, [1, 9, 1])\n",
    "    AllParticlesState = tf.reshape(AllParticlesState,[-1, 1])\n",
    "    expanded_state2 = tf.expand_dims(AllParticlesState, 1)\n",
    "\n",
    "else:\n",
    "    expanded_x2 = tf.expand_dims(x, 1)\n",
    "    expanded_v2 = tf.expand_dims(v, 1)\n",
    "    expanded_state2 = tf.expand_dims(state, 1)"
   ]
  },
  {
   "cell_type": "code",
   "execution_count": 7,
   "metadata": {
    "collapsed": false
   },
   "outputs": [],
   "source": [
    "rx=tf.subtract(expanded_x1,expanded_x2 )#Distance between every pair of particles in x in every dimension (dx,dy)\n",
    "rx2=tf.square(rx) # sqar distane for each particle pair in each dimension  (dx^2,dx^2)\n",
    "r2=tf.reduce_sum(rx2,2) # absolute squar distance between every pair of particles(dx^2+dx^2)\n",
    "r=tf.sqrt(r2) # absolute distance between every pair of particles\n",
    "r=tf.maximum(r,tf.ones_like(r)*0.0002)# To avoid division by zero make min distance larger then 0 this add to prevent simulation explosion if particles get too closed\n",
    "\n",
    "abs_r = tf.abs(r)\n",
    "\n",
    "zor_r = tf.constant(10.0 * BODY_SIZE, dtype = tf.float32 ) # radius of zone of alignment\n",
    "zoo_r = tf.constant(30.0 * BODY_SIZE, dtype = tf.float32) # radius of zone of alignment\n",
    "zoa_r = tf.constant(100.0 * BODY_SIZE, dtype = tf.float32) # radius of zone of alignment\n",
    "\n",
    "zor_mask = create_mask(abs_r, 0.0, zor_r)\n",
    "zoo_mask = create_mask(abs_r, zor_r, zoo_r)\n",
    "zoa_mask = create_mask(abs_r, zoo_r, zoa_r)\n",
    "state_mask = create_mask_1d(abs_r, zor_r, zoo_r)\n",
    "\n",
    "if PeriodicBoundary:\n",
    "    zeros = tf.zeros([NUM_PARTICLES * 9, NUM_PARTICLES, 2], tf.float32)\n",
    "    zeros_state = tf.zeros([NUM_PARTICLES * 9, NUM_PARTICLES, 1], tf.float32)\n",
    "\n",
    "else:\n",
    "    zeros = tf.zeros([NUM_PARTICLES, NUM_PARTICLES, 2], tf.float32)\n",
    "    zeros_state = tf.zeros([NUM_PARTICLES, NUM_PARTICLES, 1], tf.float32)\n",
    "\n",
    "\n",
    "r_expanded = tf.expand_dims(r, 2)\n",
    "r_expanded = tf.tile(r_expanded, (1, 1, 2))\n",
    "r_unit = rx / r_expanded\n",
    "    \n",
    "zor_x = zone_vec_x(r_unit, zor_mask, zeros)\n",
    "zoo_v = zone_vec_v(expanded_v2, zoo_mask, NUM_PARTICLES, zeros)\n",
    "zoa_x = zone_vec_x(r_unit, zoa_mask, zeros)\n",
    "state_active = zone_vec_v(expanded_state2, state_mask, NUM_PARTICLES, zeros_state)\n",
    "state_ones = zone_vec_v(tf.ones_like(expanded_state2),\n",
    "                        state_mask, NUM_PARTICLES, zeros_state)\n",
    "\n",
    "zor_x = tf.multiply(zor_x, tf.constant(1.0))\n",
    "zoo_v = tf.multiply(zoo_v, tf.constant(3.0))\n",
    "zoa_x = tf.multiply(zoa_x, tf.constant(-0.5))\n",
    "\n",
    "zor_sum = tf.reduce_sum(tf.abs(zor_x), 1)\n",
    "mask_zor_empty = tf.logical_not(tf.greater(zor_sum, tf.constant(0.0)))\n",
    "\n",
    "zoa_zoo = tf.multiply(tf.reduce_sum(zoa_x, 1), tf.reduce_sum(zoo_v,1))\n",
    "mask_both_zones = tf.greater(zoa_zoo, tf.constant(0.0))\n",
    "both_zones = tf.to_float(mask_both_zones)  #should be 0 if only one zone has individs, 1 if both\n",
    "both_zones_expanded = tf.expand_dims(both_zones, 1)\n",
    "both_zones_expanded = tf.tile(both_zones_expanded, (1,2))\n",
    "\n",
    "outer_zones_v = tf.to_float(tf.pow(.5, both_zones_expanded)) * (zoa_x + zoo_v) \n",
    "\n",
    "#states\n",
    "state_active = tf.reduce_sum(state_active, 1)\n",
    "state_ones = tf.reduce_sum(state_ones, 1)\n",
    "state_fraction = state_active / state_ones\n",
    "\n",
    "ones_state = tf.ones_like(state)\n",
    "zeros_state = tf.zeros_like(state)\n",
    "state_new = tf.where(tf.less(state_fraction, .5), zeros_state, state)\n",
    "state_new = tf.where(tf.greater(state_fraction, .5), ones_state, state_new)\n",
    "\n",
    "vnew = tf.where(mask_zor_empty, outer_zones_v, zor_x)\n",
    "\n",
    "vnew = tf.minimum(vnew, tf.ones_like(vnew) * 100000.0) #so speed can't blow up\n",
    "\n",
    "personal_weight = 1 - SOCIAL_WEIGHT\n",
    "vnew = SOCIAL_WEIGHT*vnew + personal_weight*init_velocities\n",
    "noise = tf.random_normal(vnew.get_shape(), mean=0.0, stddev=NOISE_STD_DIV, dtype=tf.float32)\n",
    "vnew = vnew + noise\n",
    "\n",
    "vnew_mag = tf.square(vnew)\n",
    "vnew_mag = tf.reduce_sum(vnew_mag, 1) \n",
    "vnew_mag = tf.sqrt(vnew_mag)\n",
    "vnew_mag = tf.expand_dims(vnew_mag, 1)\n",
    "vnew_mag = tf.tile(vnew_mag, (1, 2)) \n",
    "vnew = vnew / vnew_mag\n",
    "\n",
    "xnew = x + vnew*DT*4.0\n",
    " \n",
    "#-----------if epetitive  boundary conditions are used make sure particle poistion dont exceed cell size-------------------------------------------------------------------\n",
    "if PeriodicBoundary:\n",
    "    xnew=tf.mod(xnew + arena_size, arena_size)# repititive boundary conditions make sure the particle never exit the box\n",
    "\n",
    "\n",
    "#nvidia-smi\n"
   ]
  },
  {
   "cell_type": "code",
   "execution_count": null,
   "metadata": {
    "collapsed": true
   },
   "outputs": [],
   "source": [
    "#------------------------------INPUT PARAMETERS-----------------------------------------------------------------\n",
    "tf.reset_default_graph()\n",
    "PeriodicBoundary = True   \n",
    "arena_size = 1000.0                  # Sets the range of the \"simulation world\" coordinates\n",
    "DT = tf.constant(.5, tf.float32)   # Time step: time lapse of molecular dynamic simulation step  #was 0.00005\n",
    "m = tf.constant(0.5, tf.float32)    # mass of particles\n",
    "NUM_PARTICLES = 1200                # Number of particles to generate\n",
    "SOCIAL_WEIGHT = 0.5                 # Weighting of social vector vs previous velocity vector\n",
    "NOISE_STD_DIV = 0.0\n",
    "BODY_SIZE = 1.5\n",
    "\n",
    "np.random.seed(190)\n",
    "init_positions = np.random.rand(NUM_PARTICLES, 2) * arena_size   # initial position of particles\n",
    "init_velocities = (np.random.standard_normal(size = (NUM_PARTICLES, 2)))       # initial velocities of particles\n",
    "\n",
    "\n",
    "# make all velocities unit vectors\n",
    "init_velocities_mag = np.square(init_velocities)\n",
    "init_velocities_mag = np.sum(init_velocities_mag, 1)  \n",
    "init_velocities_mag = np.expand_dims(init_velocities_mag, 1)\n",
    "init_velocities_mag = np.tile(init_velocities_mag, (1, 2))\n",
    "init_velocities_mag = np.sqrt(init_velocities_mag)\n",
    "init_velocities = init_velocities / init_velocities_mag\n"
   ]
  },
  {
   "cell_type": "code",
   "execution_count": null,
   "metadata": {
    "collapsed": true
   },
   "outputs": [],
   "source": [
    "init_state = np.zeros((NUM_PARTICLES, 1), np.float32) \n",
    "init_state[0:600] = 1"
   ]
  },
  {
   "cell_type": "code",
   "execution_count": 8,
   "metadata": {
    "collapsed": true
   },
   "outputs": [],
   "source": [
    "#---------------------------Run the graph---------------------------------------------------------------------------\n",
    "\n",
    " \n",
    "\n",
    "WITH_TIMER = False\n",
    "arena_size_int = int(arena_size)\n",
    "\n",
    "with tf.Session() as session: #Create graph session\n",
    "    if WITH_TIMER:\n",
    "        run_options = tf.RunOptions(trace_level=tf.RunOptions.FULL_TRACE)\n",
    "        run_metadata = tf.RunMetadata()\n",
    "    for i in range(100000):   \n",
    "        if WITH_TIMER:\n",
    "            [init_positions, init_velocities, init_state] = (\n",
    "                session.run([xnew,vnew,state_new],feed_dict = {\n",
    "                    x: init_positions, \n",
    "                    v: init_velocities,\n",
    "                    state: init_state},  \n",
    "                options=run_options, run_metadata=run_metadata))\n",
    "\n",
    "\n",
    "            tl = timeline.Timeline(run_metadata.step_stats)\n",
    "            ctf = tl.generate_chrome_trace_format()\n",
    "\n",
    "            with open('timeline.json', 'w') as f:\n",
    "                f.write(ctf)\n",
    "        else:\n",
    "            [init_positions, init_velocities, init_state] = (\n",
    "                session.run([xnew,vnew,state_new],feed_dict = {\n",
    "                    x: init_positions, \n",
    "                    v: init_velocities,\n",
    "                    state: init_state}))\n",
    "    #----------------------Plot particles position real time---------------------------------------------       \n",
    "        if (i%2==0): \n",
    "            draw(arena_size_int, init_positions, BODY_SIZE)\n",
    "            if cv2.waitKey(1) & 0xFF == 27:\n",
    "                break  #time delay\n",
    "        sum_state = np.sum(init_state, 0) / NUM_PARTICLES \n",
    "        if sum_state == 0 or sum_state == 1:\n",
    "            print(sum_state)\n",
    "            break\n",
    "    session.close() \n",
    "cv2.destroyAllWindows()   "
   ]
  },
  {
   "cell_type": "code",
   "execution_count": null,
   "metadata": {
    "collapsed": true
   },
   "outputs": [],
   "source": []
  },
  {
   "cell_type": "code",
   "execution_count": null,
   "metadata": {
    "collapsed": true
   },
   "outputs": [],
   "source": []
  }
 ],
 "metadata": {
  "kernelspec": {
   "display_name": "Python 2",
   "language": "python",
   "name": "python2"
  },
  "language_info": {
   "codemirror_mode": {
    "name": "ipython",
    "version": 2
   },
   "file_extension": ".py",
   "mimetype": "text/x-python",
   "name": "python",
   "nbconvert_exporter": "python",
   "pygments_lexer": "ipython2",
   "version": "2.7.6"
  }
 },
 "nbformat": 4,
 "nbformat_minor": 0
}
